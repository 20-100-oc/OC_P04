{
 "cells": [
  {
   "cell_type": "code",
   "execution_count": 3,
   "metadata": {
    "executionInfo": {
     "elapsed": 493,
     "status": "ok",
     "timestamp": 1653484304405,
     "user": {
      "displayName": "Vincent",
      "userId": "00953070889543731066"
     },
     "user_tz": -120
    },
    "id": "LxhP_YsOJW2q"
   },
   "outputs": [],
   "source": [
    "# IF NOT LAUNCHING WITH GOOGLE COLAB, SET THIS TO FALSE\n",
    "using_colab = True"
   ]
  },
  {
   "cell_type": "code",
   "execution_count": 4,
   "metadata": {
    "executionInfo": {
     "elapsed": 31843,
     "status": "ok",
     "timestamp": 1653484336592,
     "user": {
      "displayName": "Vincent",
      "userId": "00953070889543731066"
     },
     "user_tz": -120
    },
    "id": "uH2iaekpJbDd"
   },
   "outputs": [],
   "source": [
    "# setup for colab\n",
    "if using_colab:\n",
    "    # connect google drive to colab\n",
    "    from google.colab import drive\n",
    "    drive.mount('/content/gdrive', force_remount=True)\n",
    "    \n",
    "    # download packages to google colab\n",
    "    !pip install matplotlib\n",
    "    !pip install numpy\n",
    "    !pip install pandas\n",
    "    !pip install sklearn\n",
    "    !pip install xgboost\n",
    "\n",
    "\n",
    "# to clean output of cell\n",
    "from IPython.display import clear_output\n",
    "clear_output()"
   ]
  },
  {
   "cell_type": "code",
   "execution_count": 5,
   "metadata": {
    "executionInfo": {
     "elapsed": 462,
     "status": "ok",
     "timestamp": 1653484337045,
     "user": {
      "displayName": "Vincent",
      "userId": "00953070889543731066"
     },
     "user_tz": -120
    },
    "id": "uT_joRhYJd1E"
   },
   "outputs": [],
   "source": [
    "# import packages\n",
    "import time\n",
    "import datetime\n",
    "import matplotlib.pyplot as plt\n",
    "import numpy as np\n",
    "import pandas as pd\n",
    "import pickle\n",
    "import warnings"
   ]
  },
  {
   "cell_type": "code",
   "execution_count": 6,
   "metadata": {
    "executionInfo": {
     "elapsed": 12,
     "status": "ok",
     "timestamp": 1653484337047,
     "user": {
      "displayName": "Vincent",
      "userId": "00953070889543731066"
     },
     "user_tz": -120
    },
    "id": "P7FVc4eksNBJ"
   },
   "outputs": [],
   "source": [
    "def load_data(data_path):\n",
    "    data = np.load(data_path, allow_pickle=True)\n",
    "\n",
    "    X_train = data['X_train']\n",
    "    X_test = data['X_test']\n",
    "    y_train = data['y_train']\n",
    "    y_test = data['y_test']\n",
    "\n",
    "    return X_train, X_test, y_train, y_test"
   ]
  },
  {
   "cell_type": "code",
   "execution_count": 7,
   "metadata": {
    "executionInfo": {
     "elapsed": 12,
     "status": "ok",
     "timestamp": 1653484337048,
     "user": {
      "displayName": "Vincent",
      "userId": "00953070889543731066"
     },
     "user_tz": -120
    },
    "id": "4AzoCpCpHLuq"
   },
   "outputs": [],
   "source": [
    "def get_sample_data(data, nb_samples):\n",
    "    X_train, X_test, y_train, y_test = data\n",
    "\n",
    "    # for multi-dimensional arrays\n",
    "    X_train = X_train[:nb_samples,:]\n",
    "    X_test = X_test[:nb_samples,:]\n",
    "\n",
    "    # for 1 dimensional arrays\n",
    "    y_train = y_train[:nb_samples]\n",
    "    y_test = y_test[:nb_samples]\n",
    "\n",
    "    return X_train, X_test, y_train, y_test"
   ]
  },
  {
   "cell_type": "code",
   "execution_count": 8,
   "metadata": {
    "executionInfo": {
     "elapsed": 11,
     "status": "ok",
     "timestamp": 1653484337049,
     "user": {
      "displayName": "Vincent",
      "userId": "00953070889543731066"
     },
     "user_tz": -120
    },
    "id": "UCSoWiQZJist"
   },
   "outputs": [],
   "source": [
    "def train_save_model(model, parameters_grid, dataset_name, root_dir, test_mode=False):\n",
    "\n",
    "    # get data\n",
    "    data_path = root_dir + '/data/' + dataset_name + '_train_test_sets' + '.npz'\n",
    "    data = load_data(data_path)\n",
    "\n",
    "    test_mode_samples = 10000\n",
    "    if test_mode:\n",
    "        # limit data points for faster execution time\n",
    "        data = get_sample_data(data, test_mode_samples)\n",
    "    else:\n",
    "        # Suppress warnings for clean execution\n",
    "        warnings.filterwarnings('ignore')\n",
    "    \n",
    "    X_train, X_test, y_train, y_test = data\n",
    "\n",
    "\n",
    "    # normalization\n",
    "    from sklearn.preprocessing import StandardScaler\n",
    "    scaler = StandardScaler()\n",
    "\n",
    "    # model pipeline\n",
    "    from sklearn.pipeline import make_pipeline\n",
    "    model_pipeline = make_pipeline(scaler, model)\n",
    "\n",
    "\n",
    "    # cross validation setup\n",
    "    nb_folds = 5\n",
    "    from sklearn.model_selection import StratifiedKFold\n",
    "    skfolds=StratifiedKFold(n_splits=nb_folds)\n",
    "\n",
    "    # scoring metric for grid search\n",
    "    from sklearn.metrics import make_scorer, roc_auc_score\n",
    "    scorer = make_scorer(roc_auc_score)\n",
    "\n",
    "    # final pipeline\n",
    "    from sklearn.model_selection import GridSearchCV\n",
    "    classifier = GridSearchCV(model_pipeline, \n",
    "                            param_grid=parameters_grid, \n",
    "                            cv=skfolds, \n",
    "                            scoring=scorer)\n",
    "\n",
    "\n",
    "    if test_mode:\n",
    "        # for knowing which parameters can be used in grid search\n",
    "        print('\\nPossible parameters:\\n', classifier.estimator.get_params().keys(), '\\n')\n",
    "    \n",
    "\n",
    "    # train the model\n",
    "    start = time.time()\n",
    "    classifier.fit(X_train, y_train)\n",
    "    training_time = time.time() - start\n",
    "    print('\\nResult of grid search:\\n')\n",
    "    print('training time (s):', round(training_time))\n",
    "    print('best parameters:', classifier.best_params_)\n",
    "    print('AUROC on train set:', classifier.best_score_)\n",
    "    print('\\n')\n",
    "\n",
    "\n",
    "    # save the model with pickle\n",
    "    now = datetime.datetime.now()\n",
    "    day_hour_min = str(now.day) + '-' + str(now.hour) + '-' + str(now.minute)\n",
    "    model_save_name = type(model).__name__ + '-' + day_hour_min\n",
    "\n",
    "    if not test_mode:\n",
    "        model_save_path = root_dir + '/models/' + model_save_name + '.pkl'\n",
    "        with open(model_save_path, 'wb') as f:\n",
    "            pickle.dump(classifier, f)\n",
    "\n",
    "\n",
    "    # get predictions of trained model on test set\n",
    "    y_pred = classifier.predict(X_test)\n",
    "    y_proba = np.delete(classifier.predict_proba(X_test), 0, axis=1)\n",
    "\n",
    "\n",
    "    # AUROC score on test set\n",
    "    from sklearn.metrics import roc_auc_score\n",
    "    auroc = roc_auc_score(y_test, y_proba)\n",
    "    print('AUROC on test set:', auroc, '\\n')\n",
    "\n",
    "\n",
    "    # confusion matrix on test set\n",
    "    from sklearn.metrics import confusion_matrix\n",
    "    conf_matrix = confusion_matrix(y_test, y_pred)\n",
    "    TN, FP, FN, TP = conf_matrix.ravel()\n",
    "\n",
    "    # confusion matrix graph\n",
    "    from sklearn.metrics import ConfusionMatrixDisplay\n",
    "    dist = ConfusionMatrixDisplay(conf_matrix, display_labels=['Repaid', 'Not repaid'])\n",
    "    dist.plot()\n",
    "    plt.show()\n",
    "\n",
    "\n",
    "    # get average time for one prediction\n",
    "    nb_iter = 100\n",
    "    times = []\n",
    "    for i in range(nb_iter):\n",
    "        x = X_train[np.random.choice(X_train.shape[0])]\n",
    "        x = np.reshape(x, (1, x.shape[0]))\n",
    "\n",
    "        start = time.time()\n",
    "        _ = classifier.predict(x)\n",
    "        prediction_time = time.time() - start\n",
    "        times.append(prediction_time)\n",
    "\n",
    "    avg_predict_time_s = round(np.mean(times), 3)\n",
    "\n",
    "\n",
    "    # load the models performance dataframe\n",
    "    models_perf_path = root_dir + '/data/' + 'models_performance_3' + '.csv'\n",
    "    models_perf = pd.read_csv(models_perf_path)\n",
    "    original_shape = models_perf.shape\n",
    "\n",
    "    # create new dataframe to store new perf\n",
    "    current_models_perf = pd.DataFrame(columns=['model_type', \n",
    "                                                'AUROC_test_set', \n",
    "                                                'confusion_matrix_TN', \n",
    "                                                'confusion_matrix_FP', \n",
    "                                                'confusion_matrix_FN', \n",
    "                                                'confusion_matrix_TP', \n",
    "                                                'dataset_name', \n",
    "                                                'average_predict_time_s', \n",
    "                                                'model_save_name'])\n",
    "\n",
    "    # put new perf in the new dataframe\n",
    "    perf_list = [type(model).__name__, \n",
    "                 auroc, \n",
    "                 TN, \n",
    "                 FP, \n",
    "                 FN, \n",
    "                 TP, \n",
    "                 dataset_name, \n",
    "                 avg_predict_time_s, \n",
    "                 model_save_name]\n",
    "    \n",
    "    current_models_perf.loc[len(current_models_perf.index)] = perf_list\n",
    "\n",
    "    # combine new dataframe to old one\n",
    "    models_perf = models_perf.append(current_models_perf, ignore_index=True)\n",
    "\n",
    "\n",
    "    if test_mode:\n",
    "        # don't save the current model perf\n",
    "        nb_rows_to_drop = current_models_perf.shape[0]\n",
    "        rows_to_drop = np.arange(nb_rows_to_drop) + original_shape[0]\n",
    "        models_perf = models_perf.drop(rows_to_drop, axis=0)\n",
    "        print('\\nno pb =', models_perf.shape == original_shape)\n",
    "\n",
    "    # save combined dataframe\n",
    "    models_perf.to_csv(models_perf_path, index=False)\n",
    "    print('\\nDone.')"
   ]
  },
  {
   "cell_type": "code",
   "execution_count": 9,
   "metadata": {
    "executionInfo": {
     "elapsed": 12,
     "status": "ok",
     "timestamp": 1653484337050,
     "user": {
      "displayName": "Vincent",
      "userId": "00953070889543731066"
     },
     "user_tz": -120
    },
    "id": "rIHPM0g4KVye"
   },
   "outputs": [],
   "source": [
    "# define root directory for the script\n",
    "if using_colab:\n",
    "    root_dir = '/content/gdrive/MyDrive/oc_projet_4'\n",
    "else:\n",
    "    root_dir = 'D:/OpenClassrooms/projet_4'\n",
    "\n",
    "# define dataset to use\n",
    "#dataset_name = 'app'\n",
    "dataset_name = 'app_domain'\n",
    "#dataset_name = 'app_poly'"
   ]
  },
  {
   "cell_type": "markdown",
   "metadata": {
    "id": "0Lap-S4DiUt1"
   },
   "source": [
    "## Now we try different models with different parameters\n",
    "(These are the last ones which have been tested, I have tried multiple grid searchs on each model)"
   ]
  },
  {
   "cell_type": "code",
   "execution_count": null,
   "metadata": {
    "colab": {
     "base_uri": "https://localhost:8080/",
     "height": 493
    },
    "executionInfo": {
     "elapsed": 141362,
     "status": "ok",
     "timestamp": 1652943747232,
     "user": {
      "displayName": "Vincent",
      "userId": "00953070889543731066"
     },
     "user_tz": -120
    },
    "id": "YwcRar6CJCD-",
    "outputId": "d87d7d32-3e4d-4f38-d368-4046b669c839"
   },
   "outputs": [
    {
     "name": "stdout",
     "output_type": "stream",
     "text": [
      "\n",
      "Result of grid search:\n",
      "\n",
      "training time (s): 123\n",
      "best parameters: {'dummyclassifier__strategy': 'most_frequent'}\n",
      "AUROC on train set: 0.5\n",
      "\n",
      "\n",
      "AUROC on test set: 0.5 \n",
      "\n"
     ]
    },
    {
     "data": {
      "image/png": "[encoded data removed]",
      "text/plain": [
       "<Figure size 432x288 with 2 Axes>"
      ]
     },
     "metadata": {
      "needs_background": "light"
     },
     "output_type": "display_data"
    },
    {
     "name": "stdout",
     "output_type": "stream",
     "text": [
      "\n",
      "Done.\n"
     ]
    }
   ],
   "source": [
    "# baseline: dummy classifier\n",
    "from sklearn.dummy import DummyClassifier\n",
    "model = DummyClassifier()\n",
    "\n",
    "param_grid = {'dummyclassifier__strategy': ['most_frequent', \n",
    "                                            'prior', \n",
    "                                            'stratified', \n",
    "                                            'uniform', \n",
    "                                            'constant']}\n",
    "\n",
    "train_save_model(model, param_grid, dataset_name, root_dir)"
   ]
  },
  {
   "cell_type": "code",
   "execution_count": null,
   "metadata": {
    "colab": {
     "base_uri": "https://localhost:8080/",
     "height": 493
    },
    "executionInfo": {
     "elapsed": 512605,
     "status": "ok",
     "timestamp": 1653473620036,
     "user": {
      "displayName": "Vincent",
      "userId": "00953070889543731066"
     },
     "user_tz": -120
    },
    "id": "D0kXf74Rzk32",
    "outputId": "0b0e9d73-745d-4493-bec7-95f262db394d"
   },
   "outputs": [
    {
     "name": "stdout",
     "output_type": "stream",
     "text": [
      "\n",
      "Result of grid search:\n",
      "\n",
      "training time (s): 499\n",
      "best parameters: {}\n",
      "AUROC on train set: 0.6827870113678621\n",
      "\n",
      "\n",
      "AUROC on test set: 0.7451632658507406 \n",
      "\n"
     ]
    },
    {
     "data": {
      "image/png": "[encoded data removed]",
      "text/plain": [
       "<Figure size 432x288 with 2 Axes>"
      ]
     },
     "metadata": {
      "needs_background": "light"
     },
     "output_type": "display_data"
    },
    {
     "name": "stdout",
     "output_type": "stream",
     "text": [
      "\n",
      "Done.\n"
     ]
    }
   ],
   "source": [
    "# logistic regression\n",
    "from sklearn.linear_model import LogisticRegression\n",
    "model = LogisticRegression(class_weight='balanced', penalty='none', max_iter=1000)\n",
    "\n",
    "param_grid = {}\n",
    "\n",
    "train_save_model(model, param_grid, dataset_name, root_dir)"
   ]
  },
  {
   "cell_type": "code",
   "execution_count": null,
   "metadata": {
    "colab": {
     "base_uri": "https://localhost:8080/",
     "height": 493
    },
    "executionInfo": {
     "elapsed": 3595881,
     "status": "ok",
     "timestamp": 1652446548408,
     "user": {
      "displayName": "Vincent",
      "userId": "00953070889543731066"
     },
     "user_tz": -120
    },
    "id": "L0x-Y9LDn-UX",
    "outputId": "aad04951-0c47-41a0-c79b-1ecbbda00c54"
   },
   "outputs": [
    {
     "name": "stdout",
     "output_type": "stream",
     "text": [
      "\n",
      "Result of grid search:\n",
      "\n",
      "training time (s): 3585\n",
      "best parameters: {'sgdclassifier__alpha': 0.001, 'sgdclassifier__penalty': 'l1'}\n",
      "AUROC on train set: 0.6819361635376534\n",
      "\n",
      "\n",
      "AUROC on test set: 0.7454601144640653 \n",
      "\n"
     ]
    },
    {
     "data": {
      "image/png": "[encoded data removed]",
      "text/plain": [
       "<Figure size 432x288 with 2 Axes>"
      ]
     },
     "metadata": {
      "needs_background": "light"
     },
     "output_type": "display_data"
    },
    {
     "name": "stdout",
     "output_type": "stream",
     "text": [
      "\n",
      "Done.\n"
     ]
    }
   ],
   "source": [
    "# stochastic gradient descent\n",
    "from sklearn.linear_model import SGDClassifier\n",
    "model = SGDClassifier(class_weight='balanced', loss='log')\n",
    "\n",
    "param_grid = {'sgdclassifier__penalty': ['l1', 'l2', 'elasticnet', 'none'], \n",
    "              'sgdclassifier__alpha': [0.01, 0.001, 0.0001]}\n",
    "\n",
    "train_save_model(model, param_grid, dataset_name, root_dir)"
   ]
  },
  {
   "cell_type": "code",
   "execution_count": null,
   "metadata": {
    "colab": {
     "base_uri": "https://localhost:8080/",
     "height": 493
    },
    "executionInfo": {
     "elapsed": 5054343,
     "status": "ok",
     "timestamp": 1652979307815,
     "user": {
      "displayName": "Vincent",
      "userId": "00953070889543731066"
     },
     "user_tz": -120
    },
    "id": "fYgdQKdx6bQP",
    "outputId": "94cac1b5-fda3-4759-bcc1-2d65f716be4e"
   },
   "outputs": [
    {
     "name": "stdout",
     "output_type": "stream",
     "text": [
      "\n",
      "Result of grid search:\n",
      "\n",
      "training time (s): 5040\n",
      "best parameters: {'sgdclassifier__loss': 'log', 'sgdclassifier__penalty': 'none'}\n",
      "AUROC on train set: 0.6797145251241005\n",
      "\n",
      "\n",
      "AUROC on test set: 0.7364222805810938 \n",
      "\n"
     ]
    },
    {
     "data": {
      "image/png": "[encoded data removed]",
      "text/plain": [
       "<Figure size 432x288 with 2 Axes>"
      ]
     },
     "metadata": {
      "needs_background": "light"
     },
     "output_type": "display_data"
    },
    {
     "name": "stdout",
     "output_type": "stream",
     "text": [
      "\n",
      "Done.\n"
     ]
    }
   ],
   "source": [
    "# stochastic gradient descent\n",
    "from sklearn.linear_model import SGDClassifier\n",
    "model = SGDClassifier(class_weight='balanced')\n",
    "\n",
    "param_grid = {'sgdclassifier__loss': ['log', 'modified_huber'], \n",
    "              'sgdclassifier__penalty': ['l1', 'l2', 'elasticnet', 'none']}\n",
    "\n",
    "train_save_model(model, param_grid, dataset_name, root_dir)"
   ]
  },
  {
   "cell_type": "code",
   "execution_count": null,
   "metadata": {
    "colab": {
     "base_uri": "https://localhost:8080/",
     "height": 493
    },
    "executionInfo": {
     "elapsed": 1884460,
     "status": "ok",
     "timestamp": 1652046879328,
     "user": {
      "displayName": "Vincent",
      "userId": "00953070889543731066"
     },
     "user_tz": -120
    },
    "id": "ene3KP-1VTX5",
    "outputId": "4c0d09d5-f63d-44db-c29a-a9e22fd5f9bd"
   },
   "outputs": [
    {
     "name": "stdout",
     "output_type": "stream",
     "text": [
      "\n",
      "Result of grid search:\n",
      "\n",
      "training time (s): 1866\n",
      "best parameters: {'randomforestclassifier__max_depth': 4, 'randomforestclassifier__n_estimators': 200}\n",
      "AUROC on train set: 0.6587007387755448\n",
      "\n",
      "\n",
      "AUROC on test set: 0.7138450381654542 \n",
      "\n"
     ]
    },
    {
     "data": {
      "image/png": "[encoded data removed]",
      "text/plain": [
       "<Figure size 432x288 with 2 Axes>"
      ]
     },
     "metadata": {},
     "output_type": "display_data"
    },
    {
     "name": "stdout",
     "output_type": "stream",
     "text": [
      "\n",
      "Done.\n"
     ]
    }
   ],
   "source": [
    "# random forest\n",
    "from sklearn.ensemble import RandomForestClassifier\n",
    "\n",
    "model = RandomForestClassifier(class_weight='balanced')\n",
    "param_grid = {'randomforestclassifier__n_estimators': [50, 100, 200, 500], \n",
    "              'randomforestclassifier__max_depth': [2, 4]}\n",
    "\n",
    "train_save_model(model, param_grid, dataset_name, root_dir)"
   ]
  },
  {
   "cell_type": "code",
   "execution_count": null,
   "metadata": {
    "colab": {
     "base_uri": "https://localhost:8080/",
     "height": 493
    },
    "executionInfo": {
     "elapsed": 82069243,
     "status": "ok",
     "timestamp": 1652197797233,
     "user": {
      "displayName": "Vincent",
      "userId": "00953070889543731066"
     },
     "user_tz": -120
    },
    "id": "ZR6fKUlty0F3",
    "outputId": "43786633-7246-4a4d-9c41-8b0c7f518ef0"
   },
   "outputs": [
    {
     "name": "stdout",
     "output_type": "stream",
     "text": [
      "\n",
      "Result of grid search:\n",
      "\n",
      "training time (s): 82014\n",
      "best parameters: {'xgbclassifier__max_depth': 6, 'xgbclassifier__n_estimators': 1500}\n",
      "AUROC on train set: 0.5194626469198149\n",
      "\n",
      "\n",
      "AUROC on test set: 0.7460079885555693 \n",
      "\n"
     ]
    },
    {
     "data": {
      "image/png": "[encoded data removed]",
      "text/plain": [
       "<Figure size 432x288 with 2 Axes>"
      ]
     },
     "metadata": {},
     "output_type": "display_data"
    },
    {
     "name": "stdout",
     "output_type": "stream",
     "text": [
      "\n",
      "Done.\n"
     ]
    }
   ],
   "source": [
    "# XGBoost\n",
    "from xgboost import XGBClassifier\n",
    "model = XGBClassifier(class_weight='balanced')\n",
    "\n",
    "param_grid = {'xgbclassifier__n_estimators': [1000, 1500], \n",
    "              'xgbclassifier__max_depth': [6, 8]}\n",
    "\n",
    "train_save_model(model, param_grid, dataset_name, root_dir)"
   ]
  },
  {
   "cell_type": "code",
   "execution_count": 10,
   "metadata": {
    "colab": {
     "base_uri": "https://localhost:8080/",
     "height": 513
    },
    "executionInfo": {
     "elapsed": 7040478,
     "status": "ok",
     "timestamp": 1653491377517,
     "user": {
      "displayName": "Vincent",
      "userId": "00953070889543731066"
     },
     "user_tz": -120
    },
    "id": "XNNCnXoFl2v_",
    "outputId": "ff3e888c-400b-475d-d02f-6cbd38c102db"
   },
   "outputs": [
    {
     "name": "stdout",
     "output_type": "stream",
     "text": [
      "\n",
      "Result of grid search:\n",
      "\n",
      "training time (s): 7012\n",
      "best parameters: {'gradientboostingclassifier__max_depth': 6, 'gradientboostingclassifier__n_estimators': 100}\n",
      "AUROC on train set: 0.5346722436064036\n",
      "\n",
      "\n",
      "AUROC on test set: 0.7027855401535261 \n",
      "\n"
     ]
    },
    {
     "data": {
      "image/png": "[encoded data removed]",
      "text/plain": [
       "<Figure size 432x288 with 2 Axes>"
      ]
     },
     "metadata": {
      "needs_background": "light"
     },
     "output_type": "display_data"
    },
    {
     "name": "stdout",
     "output_type": "stream",
     "text": [
      "\n",
      "Done.\n"
     ]
    }
   ],
   "source": [
    " # gradient boosting\n",
    "from sklearn.ensemble import GradientBoostingClassifier\n",
    "model = GradientBoostingClassifier(learning_rate=1)\n",
    "\n",
    "param_grid = {'gradientboostingclassifier__n_estimators': [10, 100], \n",
    "              'gradientboostingclassifier__max_depth': [4, 6]}\n",
    "\n",
    "train_save_model(model, param_grid, dataset_name, root_dir)"
   ]
  },
  {
   "cell_type": "code",
   "execution_count": null,
   "metadata": {
    "id": "AKTi4DyQWGf7"
   },
   "outputs": [],
   "source": []
  }
 ],
 "metadata": {
  "colab": {
   "authorship_tag": "ABX9TyNFNr+jWI729BixvggLoBcx",
   "collapsed_sections": [],
   "name": "train_test_save_model.ipynb",
   "provenance": []
  },
  "kernelspec": {
   "display_name": "Python 3 (ipykernel)",
   "language": "python",
   "name": "python3"
  },
  "language_info": {
   "codemirror_mode": {
    "name": "ipython",
    "version": 3
   },
   "file_extension": ".py",
   "mimetype": "text/x-python",
   "name": "python",
   "nbconvert_exporter": "python",
   "pygments_lexer": "ipython3",
   "version": "3.7.4"
  }
 },
 "nbformat": 4,
 "nbformat_minor": 1
}
